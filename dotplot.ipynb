{
 "cells": [
  {
   "cell_type": "code",
   "execution_count": null,
   "id": "9cbbfbee",
   "metadata": {},
   "outputs": [],
   "source": [
    "import pandas as pd\n",
    "import matplotlib.pyplot as plt\n",
    "import seaborn as sns\n",
    "\n",
    "# Example data (replace with your own RNA-seq results)\n",
    "data = {\n",
    "    'Gene': ['GeneA', 'GeneB', 'GeneC', 'GeneD'],\n",
    "    'log2FoldChange': [1.5, -2.3, 0.7, -1.1],\n",
    "    'padj': [0.01, 0.03, 0.2, 0.05]\n",
    "}\n",
    "\n",
    "df = pd.DataFrame(data)\n",
    "df['Significant'] = df['padj'] < 0.05\n",
    "\n",
    "# Dot plot\n",
    "plt.figure(figsize=(8, 5))\n",
    "sns.scatterplot(data=df, x='log2FoldChange', y='Gene', hue='Significant', palette={True: 'red', False: 'gray'})\n",
    "plt.title('RNA-seq Dot Plot')\n",
    "plt.xlabel('log2 Fold Change')\n",
    "plt.ylabel('Gene')\n",
    "plt.grid(True)\n",
    "plt.tight_layout()\n",
    "plt.show()"
   ]
  }
 ],
 "metadata": {
  "kernelspec": {
   "display_name": "Python 3",
   "language": "python",
   "name": "python3"
  },
  "language_info": {
   "name": "python",
   "version": "3.9"
  }
 },
 "nbformat": 4,
 "nbformat_minor": 5
}
